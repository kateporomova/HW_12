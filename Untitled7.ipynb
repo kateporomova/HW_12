{
 "cells": [
  {
   "cell_type": "code",
   "execution_count": 1,
   "id": "c7795e5f-126b-4eb3-9d7a-41f16976a36c",
   "metadata": {},
   "outputs": [],
   "source": [
    "def sort(list):\n",
    "    for i in range(len(list)):\n",
    "        for j in range(i + 1, len(list)):\n",
    "            if list[i] > list[j]:\n",
    "                list[i], list[j] = list[j], list[i]\n",
    "    return list"
   ]
  },
  {
   "cell_type": "code",
   "execution_count": 3,
   "id": "e5e59c1c-fc8a-4593-8971-83ba9ba9dc54",
   "metadata": {},
   "outputs": [
    {
     "name": "stdout",
     "output_type": "stream",
     "text": [
      "[1, 2, 5]\n",
      "[1, 1, 3, 4, 5, 6, 6]\n"
     ]
    }
   ],
   "source": [
    "list = [5, 2, 1]\n",
    "list1 = [4, 6, 6, 1, 3, 1, 5]\n",
    "print(sort(list))\n",
    "print(sort(list1))"
   ]
  },
  {
   "cell_type": "code",
   "execution_count": null,
   "id": "0d3ccb47-e6ec-4fab-9965-b00fcec2bc8c",
   "metadata": {},
   "outputs": [],
   "source": []
  }
 ],
 "metadata": {
  "kernelspec": {
   "display_name": "Python 3 (ipykernel)",
   "language": "python",
   "name": "python3"
  },
  "language_info": {
   "codemirror_mode": {
    "name": "ipython",
    "version": 3
   },
   "file_extension": ".py",
   "mimetype": "text/x-python",
   "name": "python",
   "nbconvert_exporter": "python",
   "pygments_lexer": "ipython3",
   "version": "3.11.7"
  }
 },
 "nbformat": 4,
 "nbformat_minor": 5
}
