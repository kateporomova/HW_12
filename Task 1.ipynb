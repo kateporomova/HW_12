{
 "cells": [
  {
   "cell_type": "code",
   "execution_count": 1,
   "id": "d99de154-65ce-4f72-b004-632bf2acb476",
   "metadata": {},
   "outputs": [
    {
     "name": "stdout",
     "output_type": "stream",
     "text": [
      "Number of links to .png: 44\n"
     ]
    }
   ],
   "source": [
    "import requests\n",
    "import re\n",
    "import os\n",
    "\n",
    "url = 'https://gsom.spbu.ru/en/'\n",
    "response = requests.get(url)\n",
    "content = response.content\n",
    "filename = \"new_image\" \n",
    "content_str = content.decode('utf-8')\n",
    "png_count = len(re.findall('.png', content_str))\n",
    "print(\"Number of links to .png:\", png_count)\n",
    "if not os.path.exists('images'):\n",
    "    os.makedirs('images')\n",
    "\n",
    "file_path = f'images/{filename}.png'\n",
    "with open(file_path, 'wb') as file:\n",
    "    file.write(response.content)"
   ]
  },
  {
   "cell_type": "code",
   "execution_count": null,
   "id": "ce73b845-75c6-4198-9af7-3585a362dad5",
   "metadata": {},
   "outputs": [],
   "source": []
  }
 ],
 "metadata": {
  "kernelspec": {
   "display_name": "Python 3 (ipykernel)",
   "language": "python",
   "name": "python3"
  },
  "language_info": {
   "codemirror_mode": {
    "name": "ipython",
    "version": 3
   },
   "file_extension": ".py",
   "mimetype": "text/x-python",
   "name": "python",
   "nbconvert_exporter": "python",
   "pygments_lexer": "ipython3",
   "version": "3.11.7"
  }
 },
 "nbformat": 4,
 "nbformat_minor": 5
}
