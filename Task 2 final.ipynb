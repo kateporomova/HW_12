{
 "cells": [
  {
   "cell_type": "code",
   "execution_count": 4,
   "id": "1a850972-1382-4c14-9448-09fe9cbce990",
   "metadata": {},
   "outputs": [
    {
     "name": "stdout",
     "output_type": "stream",
     "text": [
      "   Income  Income without tax  Expenses\n",
      "0     100                70.0        47\n",
      "1     200               140.0        45\n",
      "2     300               210.0        70\n",
      "3     400               280.0        37\n",
      "4     500               350.0        35\n",
      "5     600               420.0        39\n",
      "6     700               490.0        64\n",
      "7     800               560.0        20\n",
      "8     900               630.0        92\n",
      "9    1000               700.0        27\n",
      "   Income  Income without tax  Expenses\n",
      "0     100                70.0        47\n",
      "1     200               140.0        45\n",
      "2     300               210.0        70\n"
     ]
    }
   ],
   "source": [
    "import numpy as np\n",
    "import pandas as pd\n",
    "income = np.array([100, 200, 300, 400, 500, 600, 700, 800, 900, 1000])\n",
    "income_without_tax = income * 0.7\n",
    "expenses = np.random.randint(100, size=10) \n",
    "df = pd.DataFrame({'Income': income, 'Income without tax': income_without_tax, 'Expenses': expenses})\n",
    "print(df)\n",
    "first_quarter = df[df['Income'].isin([100, 200, 300])]\n",
    "print(first_quarter)"
   ]
  },
  {
   "cell_type": "code",
   "execution_count": null,
   "id": "7fce580e-edaa-4441-9ede-ad62d6f384a1",
   "metadata": {},
   "outputs": [],
   "source": []
  }
 ],
 "metadata": {
  "kernelspec": {
   "display_name": "Python 3 (ipykernel)",
   "language": "python",
   "name": "python3"
  },
  "language_info": {
   "codemirror_mode": {
    "name": "ipython",
    "version": 3
   },
   "file_extension": ".py",
   "mimetype": "text/x-python",
   "name": "python",
   "nbconvert_exporter": "python",
   "pygments_lexer": "ipython3",
   "version": "3.11.7"
  }
 },
 "nbformat": 4,
 "nbformat_minor": 5
}
